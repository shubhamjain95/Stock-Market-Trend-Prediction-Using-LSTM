{
 "cells": [
  {
   "cell_type": "markdown",
   "metadata": {
    "id": "fWt0UOocL6IW"
   },
   "source": [
    "### Stock Market Prediction And Forecasting Using Stacked LSTM"
   ]
  },
  {
   "cell_type": "code",
   "execution_count": 1,
   "metadata": {
    "id": "4pz93IwOL6Ik"
   },
   "outputs": [],
   "source": [
    "### Keras and Tensorflow >2.0"
   ]
  },
  {
   "cell_type": "code",
   "execution_count": 2,
   "metadata": {
    "id": "7SfFPsJaL6It"
   },
   "outputs": [],
   "source": [
    "import pandas as pd"
   ]
  },
  {
   "cell_type": "code",
   "execution_count": 3,
   "metadata": {
    "id": "tjxC89xeL6Iu"
   },
   "outputs": [],
   "source": [
    "df=pd.read_csv('AAPL.csv')"
   ]
  },
  {
   "cell_type": "code",
   "execution_count": 4,
   "metadata": {
    "colab": {
     "base_uri": "https://localhost:8080/",
     "height": 375
    },
    "id": "3HlDixAzL6Iw",
    "outputId": "d6b9b059-3696-4769-8d16-3486e8e670ee"
   },
   "outputs": [
    {
     "data": {
      "text/html": [
       "<div>\n",
       "<style scoped>\n",
       "    .dataframe tbody tr th:only-of-type {\n",
       "        vertical-align: middle;\n",
       "    }\n",
       "\n",
       "    .dataframe tbody tr th {\n",
       "        vertical-align: top;\n",
       "    }\n",
       "\n",
       "    .dataframe thead th {\n",
       "        text-align: right;\n",
       "    }\n",
       "</style>\n",
       "<table border=\"1\" class=\"dataframe\">\n",
       "  <thead>\n",
       "    <tr style=\"text-align: right;\">\n",
       "      <th></th>\n",
       "      <th>Date</th>\n",
       "      <th>Open</th>\n",
       "      <th>High</th>\n",
       "      <th>Low</th>\n",
       "      <th>Close</th>\n",
       "      <th>Adj Close</th>\n",
       "      <th>Volume</th>\n",
       "    </tr>\n",
       "  </thead>\n",
       "  <tbody>\n",
       "    <tr>\n",
       "      <th>0</th>\n",
       "      <td>2010-01-04</td>\n",
       "      <td>7.622500</td>\n",
       "      <td>7.660714</td>\n",
       "      <td>7.585000</td>\n",
       "      <td>7.643214</td>\n",
       "      <td>6.544687</td>\n",
       "      <td>493729600</td>\n",
       "    </tr>\n",
       "    <tr>\n",
       "      <th>1</th>\n",
       "      <td>2010-01-05</td>\n",
       "      <td>7.664286</td>\n",
       "      <td>7.699643</td>\n",
       "      <td>7.616071</td>\n",
       "      <td>7.656429</td>\n",
       "      <td>6.556002</td>\n",
       "      <td>601904800</td>\n",
       "    </tr>\n",
       "    <tr>\n",
       "      <th>2</th>\n",
       "      <td>2010-01-06</td>\n",
       "      <td>7.656429</td>\n",
       "      <td>7.686786</td>\n",
       "      <td>7.526786</td>\n",
       "      <td>7.534643</td>\n",
       "      <td>6.451721</td>\n",
       "      <td>552160000</td>\n",
       "    </tr>\n",
       "    <tr>\n",
       "      <th>3</th>\n",
       "      <td>2010-01-07</td>\n",
       "      <td>7.562500</td>\n",
       "      <td>7.571429</td>\n",
       "      <td>7.466071</td>\n",
       "      <td>7.520714</td>\n",
       "      <td>6.439794</td>\n",
       "      <td>477131200</td>\n",
       "    </tr>\n",
       "    <tr>\n",
       "      <th>4</th>\n",
       "      <td>2010-01-08</td>\n",
       "      <td>7.510714</td>\n",
       "      <td>7.571429</td>\n",
       "      <td>7.466429</td>\n",
       "      <td>7.570714</td>\n",
       "      <td>6.482606</td>\n",
       "      <td>447610800</td>\n",
       "    </tr>\n",
       "  </tbody>\n",
       "</table>\n",
       "</div>"
      ],
      "text/plain": [
       "         Date      Open      High       Low     Close  Adj Close     Volume\n",
       "0  2010-01-04  7.622500  7.660714  7.585000  7.643214   6.544687  493729600\n",
       "1  2010-01-05  7.664286  7.699643  7.616071  7.656429   6.556002  601904800\n",
       "2  2010-01-06  7.656429  7.686786  7.526786  7.534643   6.451721  552160000\n",
       "3  2010-01-07  7.562500  7.571429  7.466071  7.520714   6.439794  477131200\n",
       "4  2010-01-08  7.510714  7.571429  7.466429  7.570714   6.482606  447610800"
      ]
     },
     "execution_count": 4,
     "metadata": {},
     "output_type": "execute_result"
    }
   ],
   "source": [
    "df.head()"
   ]
  },
  {
   "cell_type": "code",
   "execution_count": 5,
   "metadata": {
    "colab": {
     "base_uri": "https://localhost:8080/",
     "height": 375
    },
    "id": "avdCmRyXL6Iz",
    "outputId": "7202491c-3f90-40cb-9bb2-64bb4111e149"
   },
   "outputs": [
    {
     "data": {
      "text/html": [
       "<div>\n",
       "<style scoped>\n",
       "    .dataframe tbody tr th:only-of-type {\n",
       "        vertical-align: middle;\n",
       "    }\n",
       "\n",
       "    .dataframe tbody tr th {\n",
       "        vertical-align: top;\n",
       "    }\n",
       "\n",
       "    .dataframe thead th {\n",
       "        text-align: right;\n",
       "    }\n",
       "</style>\n",
       "<table border=\"1\" class=\"dataframe\">\n",
       "  <thead>\n",
       "    <tr style=\"text-align: right;\">\n",
       "      <th></th>\n",
       "      <th>Date</th>\n",
       "      <th>Open</th>\n",
       "      <th>High</th>\n",
       "      <th>Low</th>\n",
       "      <th>Close</th>\n",
       "      <th>Adj Close</th>\n",
       "      <th>Volume</th>\n",
       "    </tr>\n",
       "  </thead>\n",
       "  <tbody>\n",
       "    <tr>\n",
       "      <th>2510</th>\n",
       "      <td>2019-12-23</td>\n",
       "      <td>70.132500</td>\n",
       "      <td>71.062500</td>\n",
       "      <td>70.092499</td>\n",
       "      <td>71.000000</td>\n",
       "      <td>69.871780</td>\n",
       "      <td>98572000</td>\n",
       "    </tr>\n",
       "    <tr>\n",
       "      <th>2511</th>\n",
       "      <td>2019-12-24</td>\n",
       "      <td>71.172501</td>\n",
       "      <td>71.222504</td>\n",
       "      <td>70.730003</td>\n",
       "      <td>71.067497</td>\n",
       "      <td>69.938187</td>\n",
       "      <td>48478800</td>\n",
       "    </tr>\n",
       "    <tr>\n",
       "      <th>2512</th>\n",
       "      <td>2019-12-26</td>\n",
       "      <td>71.205002</td>\n",
       "      <td>72.495003</td>\n",
       "      <td>71.175003</td>\n",
       "      <td>72.477501</td>\n",
       "      <td>71.325806</td>\n",
       "      <td>93121200</td>\n",
       "    </tr>\n",
       "    <tr>\n",
       "      <th>2513</th>\n",
       "      <td>2019-12-27</td>\n",
       "      <td>72.779999</td>\n",
       "      <td>73.492500</td>\n",
       "      <td>72.029999</td>\n",
       "      <td>72.449997</td>\n",
       "      <td>71.298737</td>\n",
       "      <td>146266000</td>\n",
       "    </tr>\n",
       "    <tr>\n",
       "      <th>2514</th>\n",
       "      <td>2019-12-30</td>\n",
       "      <td>72.364998</td>\n",
       "      <td>73.172501</td>\n",
       "      <td>71.305000</td>\n",
       "      <td>72.879997</td>\n",
       "      <td>71.721901</td>\n",
       "      <td>144114400</td>\n",
       "    </tr>\n",
       "  </tbody>\n",
       "</table>\n",
       "</div>"
      ],
      "text/plain": [
       "            Date       Open       High        Low      Close  Adj Close  \\\n",
       "2510  2019-12-23  70.132500  71.062500  70.092499  71.000000  69.871780   \n",
       "2511  2019-12-24  71.172501  71.222504  70.730003  71.067497  69.938187   \n",
       "2512  2019-12-26  71.205002  72.495003  71.175003  72.477501  71.325806   \n",
       "2513  2019-12-27  72.779999  73.492500  72.029999  72.449997  71.298737   \n",
       "2514  2019-12-30  72.364998  73.172501  71.305000  72.879997  71.721901   \n",
       "\n",
       "         Volume  \n",
       "2510   98572000  \n",
       "2511   48478800  \n",
       "2512   93121200  \n",
       "2513  146266000  \n",
       "2514  144114400  "
      ]
     },
     "execution_count": 5,
     "metadata": {},
     "output_type": "execute_result"
    }
   ],
   "source": [
    "df.tail()"
   ]
  },
  {
   "cell_type": "code",
   "execution_count": 6,
   "metadata": {
    "id": "k9b0Q3-OL6I1"
   },
   "outputs": [],
   "source": [
    "df1=df.reset_index()['Close']"
   ]
  },
  {
   "cell_type": "code",
   "execution_count": 7,
   "metadata": {
    "colab": {
     "base_uri": "https://localhost:8080/"
    },
    "id": "r-THVRlZL6I2",
    "outputId": "af65de50-f801-47a1-b6ab-559abc3d165a"
   },
   "outputs": [
    {
     "data": {
      "text/plain": [
       "0        7.643214\n",
       "1        7.656429\n",
       "2        7.534643\n",
       "3        7.520714\n",
       "4        7.570714\n",
       "          ...    \n",
       "2510    71.000000\n",
       "2511    71.067497\n",
       "2512    72.477501\n",
       "2513    72.449997\n",
       "2514    72.879997\n",
       "Name: Close, Length: 2515, dtype: float64"
      ]
     },
     "execution_count": 7,
     "metadata": {},
     "output_type": "execute_result"
    }
   ],
   "source": [
    "df1"
   ]
  },
  {
   "cell_type": "code",
   "execution_count": 8,
   "metadata": {
    "colab": {
     "base_uri": "https://localhost:8080/",
     "height": 284
    },
    "id": "IWAf8WmCL6I3",
    "outputId": "f250ac7f-491f-43e3-9ce2-65b611726177"
   },
   "outputs": [
    {
     "data": {
      "text/plain": [
       "[<matplotlib.lines.Line2D at 0x24dd0422a30>]"
      ]
     },
     "execution_count": 8,
     "metadata": {},
     "output_type": "execute_result"
    },
    {
     "data": {
      "image/png": "[encoded data removed]",
      "text/plain": [
       "<Figure size 432x288 with 1 Axes>"
      ]
     },
     "metadata": {
      "needs_background": "light"
     },
     "output_type": "display_data"
    }
   ],
   "source": [
    "import matplotlib.pyplot as plt\n",
    "plt.plot(df1)"
   ]
  },
  {
   "cell_type": "code",
   "execution_count": 10,
   "metadata": {
    "id": "jfE8D7UVL6I5"
   },
   "outputs": [],
   "source": [
    "### LSTM are sensitive to the scale of the data. so we apply MinMax scaler "
   ]
  },
  {
   "cell_type": "code",
   "execution_count": 11,
   "metadata": {
    "id": "l0msxx6vL6I5"
   },
   "outputs": [],
   "source": [
    "import numpy as np"
   ]
  },
  {
   "cell_type": "code",
   "execution_count": 12,
   "metadata": {
    "colab": {
     "base_uri": "https://localhost:8080/"
    },
    "id": "udQUcX7mL6I6",
    "outputId": "f655fabe-4fd4-4ece-a736-cb85f2e3b82a"
   },
   "outputs": [
    {
     "data": {
      "text/plain": [
       "0        7.643214\n",
       "1        7.656429\n",
       "2        7.534643\n",
       "3        7.520714\n",
       "4        7.570714\n",
       "          ...    \n",
       "2510    71.000000\n",
       "2511    71.067497\n",
       "2512    72.477501\n",
       "2513    72.449997\n",
       "2514    72.879997\n",
       "Name: Close, Length: 2515, dtype: float64"
      ]
     },
     "execution_count": 12,
     "metadata": {},
     "output_type": "execute_result"
    }
   ],
   "source": [
    "df1"
   ]
  },
  {
   "cell_type": "code",
   "execution_count": 13,
   "metadata": {
    "id": "rUij8LcfL6I7"
   },
   "outputs": [],
   "source": [
    "from sklearn.preprocessing import MinMaxScaler\n",
    "scaler=MinMaxScaler(feature_range=(0,1))\n",
    "df1=scaler.fit_transform(np.array(df1).reshape(-1,1))"
   ]
  },
  {
   "cell_type": "code",
   "execution_count": 14,
   "metadata": {
    "colab": {
     "base_uri": "https://localhost:8080/"
    },
    "id": "VsT6aZMrL6I7",
    "outputId": "7dad103b-8911-4ab8-cf2d-754f5f010d90"
   },
   "outputs": [
    {
     "name": "stdout",
     "output_type": "stream",
     "text": [
      "[[0.01187931]\n",
      " [0.01207948]\n",
      " [0.01023482]\n",
      " ...\n",
      " [0.99390352]\n",
      " [0.99348693]\n",
      " [1.        ]]\n"
     ]
    }
   ],
   "source": [
    "print(df1)"
   ]
  },
  {
   "cell_type": "code",
   "execution_count": 15,
   "metadata": {
    "id": "gMnlTbLbL6I8"
   },
   "outputs": [],
   "source": [
    "##splitting dataset into train and test split\n",
    "training_size=int(len(df1)*0.65)\n",
    "test_size=len(df1)-training_size\n",
    "train_data,test_data=df1[0:training_size,:],df1[training_size:len(df1),:1]"
   ]
  },
  {
   "cell_type": "code",
   "execution_count": 16,
   "metadata": {
    "colab": {
     "base_uri": "https://localhost:8080/"
    },
    "id": "gbpG685FL6I9",
    "outputId": "717bbaa5-ed04-4b71-97c6-dd86141d5d21"
   },
   "outputs": [
    {
     "data": {
      "text/plain": [
       "(1634, 881)"
      ]
     },
     "execution_count": 16,
     "metadata": {},
     "output_type": "execute_result"
    }
   ],
   "source": [
    "training_size,test_size"
   ]
  },
  {
   "cell_type": "code",
   "execution_count": 17,
   "metadata": {
    "colab": {
     "base_uri": "https://localhost:8080/"
    },
    "id": "0Y0VNoqIL6JA",
    "outputId": "518c334e-d4c2-47c9-8b4a-8ffff0839d71"
   },
   "outputs": [
    {
     "data": {
      "text/plain": [
       "array([[0.01187931],\n",
       "       [0.01207948],\n",
       "       [0.01023482],\n",
       "       ...,\n",
       "       [0.24463511],\n",
       "       [0.25050443],\n",
       "       [0.25357165]])"
      ]
     },
     "execution_count": 17,
     "metadata": {},
     "output_type": "execute_result"
    }
   ],
   "source": [
    "train_data"
   ]
  },
  {
   "cell_type": "code",
   "execution_count": 18,
   "metadata": {
    "id": "fLPY5DzKL6JC"
   },
   "outputs": [],
   "source": [
    "import numpy\n",
    "# convert an array of values into a dataset matrix\n",
    "def create_dataset(dataset, time_step=1):\n",
    "\tdataX, dataY = [], []\n",
    "\tfor i in range(len(dataset)-time_step-1):\n",
    "\t\ta = dataset[i:(i+time_step), 0]   ###i=0, 0,1,2,3-----99   100 \n",
    "\t\tdataX.append(a)\n",
    "\t\tdataY.append(dataset[i + time_step, 0])\n",
    "\treturn numpy.array(dataX), numpy.array(dataY)"
   ]
  },
  {
   "cell_type": "code",
   "execution_count": 19,
   "metadata": {
    "id": "-ddSrBFGL6JE"
   },
   "outputs": [],
   "source": [
    "# reshape into X=t,t+1,t+2,t+3 and Y=t+4\n",
    "time_step = 100\n",
    "X_train, y_train = create_dataset(train_data, time_step)\n",
    "X_test, ytest = create_dataset(test_data, time_step)"
   ]
  },
  {
   "cell_type": "code",
   "execution_count": 20,
   "metadata": {
    "colab": {
     "base_uri": "https://localhost:8080/"
    },
    "id": "Boii-fvCL6JF",
    "outputId": "699c9b14-17f9-401a-a310-9bd3ed92e77a"
   },
   "outputs": [
    {
     "name": "stdout",
     "output_type": "stream",
     "text": [
      "(1533, 100)\n",
      "(1533,)\n"
     ]
    },
    {
     "data": {
      "text/plain": [
       "(None, None)"
      ]
     },
     "execution_count": 20,
     "metadata": {},
     "output_type": "execute_result"
    }
   ],
   "source": [
    "print(X_train.shape), print(y_train.shape)"
   ]
  },
  {
   "cell_type": "code",
   "execution_count": 21,
   "metadata": {
    "colab": {
     "base_uri": "https://localhost:8080/"
    },
    "id": "3_7u9miKL6JH",
    "outputId": "36bf9f66-8bfd-453d-a75a-df05fd5cb1ca"
   },
   "outputs": [
    {
     "name": "stdout",
     "output_type": "stream",
     "text": [
      "(780, 100)\n",
      "(780,)\n"
     ]
    },
    {
     "data": {
      "text/plain": [
       "(None, None)"
      ]
     },
     "execution_count": 21,
     "metadata": {},
     "output_type": "execute_result"
    }
   ],
   "source": [
    "print(X_test.shape), print(ytest.shape)"
   ]
  },
  {
   "cell_type": "code",
   "execution_count": 22,
   "metadata": {
    "id": "vO2KjGRHL6JH"
   },
   "outputs": [],
   "source": [
    "# reshape input to be [samples, time steps, features] which is required for LSTM\n",
    "X_train =X_train.reshape(X_train.shape[0],X_train.shape[1] , 1)\n",
    "X_test = X_test.reshape(X_test.shape[0],X_test.shape[1] , 1)"
   ]
  },
  {
   "cell_type": "code",
   "execution_count": 26,
   "metadata": {},
   "outputs": [
    {
     "name": "stdout",
     "output_type": "stream",
     "text": [
      "Requirement already satisfied: tensorflow in c:\\users\\hp\\anaconda3\\lib\\site-packages (2.8.0)\n",
      "Requirement already satisfied: gast>=0.2.1 in c:\\users\\hp\\anaconda3\\lib\\site-packages (from tensorflow) (0.5.3)\n",
      "Requirement already satisfied: tensorboard<2.9,>=2.8 in c:\\users\\hp\\anaconda3\\lib\\site-packages (from tensorflow) (2.8.0)\n",
      "Requirement already satisfied: astunparse>=1.6.0 in c:\\users\\hp\\anaconda3\\lib\\site-packages (from tensorflow) (1.6.3)\n",
      "Requirement already satisfied: termcolor>=1.1.0 in c:\\users\\hp\\anaconda3\\lib\\site-packages (from tensorflow) (1.1.0)\n",
      "Requirement already satisfied: numpy>=1.20 in c:\\users\\hp\\anaconda3\\lib\\site-packages (from tensorflow) (1.20.3)\n",
      "Requirement already satisfied: keras-preprocessing>=1.1.1 in c:\\users\\hp\\anaconda3\\lib\\site-packages (from tensorflow) (1.1.2)\n",
      "Requirement already satisfied: keras<2.9,>=2.8.0rc0 in c:\\users\\hp\\anaconda3\\lib\\site-packages (from tensorflow) (2.8.0)\n",
      "Requirement already satisfied: absl-py>=0.4.0 in c:\\users\\hp\\anaconda3\\lib\\site-packages (from tensorflow) (1.0.0)\n",
      "Requirement already satisfied: setuptools in c:\\users\\hp\\anaconda3\\lib\\site-packages (from tensorflow) (58.0.4)\n",
      "Requirement already satisfied: tf-estimator-nightly==2.8.0.dev2021122109 in c:\\users\\hp\\anaconda3\\lib\\site-packages (from tensorflow) (2.8.0.dev2021122109)\n",
      "Requirement already satisfied: six>=1.12.0 in c:\\users\\hp\\anaconda3\\lib\\site-packages (from tensorflow) (1.16.0)\n",
      "Requirement already satisfied: protobuf>=3.9.2 in c:\\users\\hp\\anaconda3\\lib\\site-packages (from tensorflow) (3.20.1)\n",
      "Requirement already satisfied: opt-einsum>=2.3.2 in c:\\users\\hp\\anaconda3\\lib\\site-packages (from tensorflow) (3.3.0)\n",
      "Requirement already satisfied: h5py>=2.9.0 in c:\\users\\hp\\anaconda3\\lib\\site-packages (from tensorflow) (3.2.1)\n",
      "Requirement already satisfied: typing-extensions>=3.6.6 in c:\\users\\hp\\anaconda3\\lib\\site-packages (from tensorflow) (3.10.0.2)\n",
      "Requirement already satisfied: tensorflow-io-gcs-filesystem>=0.23.1 in c:\\users\\hp\\anaconda3\\lib\\site-packages (from tensorflow) (0.25.0)\n",
      "Requirement already satisfied: wrapt>=1.11.0 in c:\\users\\hp\\anaconda3\\lib\\site-packages (from tensorflow) (1.12.1)\n",
      "Requirement already satisfied: flatbuffers>=1.12 in c:\\users\\hp\\anaconda3\\lib\\site-packages (from tensorflow) (2.0)\n",
      "Requirement already satisfied: libclang>=9.0.1 in c:\\users\\hp\\anaconda3\\lib\\site-packages (from tensorflow) (14.0.1)\n",
      "Requirement already satisfied: grpcio<2.0,>=1.24.3 in c:\\users\\hp\\anaconda3\\lib\\site-packages (from tensorflow) (1.44.0)\n",
      "Requirement already satisfied: google-pasta>=0.1.1 in c:\\users\\hp\\anaconda3\\lib\\site-packages (from tensorflow) (0.2.0)\n",
      "Requirement already satisfied: wheel<1.0,>=0.23.0 in c:\\users\\hp\\anaconda3\\lib\\site-packages (from astunparse>=1.6.0->tensorflow) (0.37.0)\n",
      "Requirement already satisfied: markdown>=2.6.8 in c:\\users\\hp\\anaconda3\\lib\\site-packages (from tensorboard<2.9,>=2.8->tensorflow) (3.3.6)\n",
      "Requirement already satisfied: tensorboard-data-server<0.7.0,>=0.6.0 in c:\\users\\hp\\anaconda3\\lib\\site-packages (from tensorboard<2.9,>=2.8->tensorflow) (0.6.1)\n",
      "Requirement already satisfied: tensorboard-plugin-wit>=1.6.0 in c:\\users\\hp\\anaconda3\\lib\\site-packages (from tensorboard<2.9,>=2.8->tensorflow) (1.8.1)\n",
      "Requirement already satisfied: werkzeug>=0.11.15 in c:\\users\\hp\\anaconda3\\lib\\site-packages (from tensorboard<2.9,>=2.8->tensorflow) (2.0.2)\n",
      "Requirement already satisfied: google-auth-oauthlib<0.5,>=0.4.1 in c:\\users\\hp\\anaconda3\\lib\\site-packages (from tensorboard<2.9,>=2.8->tensorflow) (0.4.6)\n",
      "Requirement already satisfied: requests<3,>=2.21.0 in c:\\users\\hp\\anaconda3\\lib\\site-packages (from tensorboard<2.9,>=2.8->tensorflow) (2.26.0)\n",
      "Requirement already satisfied: google-auth<3,>=1.6.3 in c:\\users\\hp\\anaconda3\\lib\\site-packages (from tensorboard<2.9,>=2.8->tensorflow) (2.6.6)\n",
      "Requirement already satisfied: cachetools<6.0,>=2.0.0 in c:\\users\\hp\\anaconda3\\lib\\site-packages (from google-auth<3,>=1.6.3->tensorboard<2.9,>=2.8->tensorflow) (5.0.0)\n",
      "Requirement already satisfied: rsa<5,>=3.1.4 in c:\\users\\hp\\anaconda3\\lib\\site-packages (from google-auth<3,>=1.6.3->tensorboard<2.9,>=2.8->tensorflow) (4.8)\n",
      "Requirement already satisfied: pyasn1-modules>=0.2.1 in c:\\users\\hp\\anaconda3\\lib\\site-packages (from google-auth<3,>=1.6.3->tensorboard<2.9,>=2.8->tensorflow) (0.2.8)\n",
      "Requirement already satisfied: requests-oauthlib>=0.7.0 in c:\\users\\hp\\anaconda3\\lib\\site-packages (from google-auth-oauthlib<0.5,>=0.4.1->tensorboard<2.9,>=2.8->tensorflow) (1.3.1)\n",
      "Requirement already satisfied: importlib-metadata>=4.4 in c:\\users\\hp\\anaconda3\\lib\\site-packages (from markdown>=2.6.8->tensorboard<2.9,>=2.8->tensorflow) (4.8.1)\n",
      "Requirement already satisfied: zipp>=0.5 in c:\\users\\hp\\anaconda3\\lib\\site-packages (from importlib-metadata>=4.4->markdown>=2.6.8->tensorboard<2.9,>=2.8->tensorflow) (3.6.0)\n",
      "Requirement already satisfied: pyasn1<0.5.0,>=0.4.6 in c:\\users\\hp\\anaconda3\\lib\\site-packages (from pyasn1-modules>=0.2.1->google-auth<3,>=1.6.3->tensorboard<2.9,>=2.8->tensorflow) (0.4.8)\n",
      "Requirement already satisfied: charset-normalizer~=2.0.0 in c:\\users\\hp\\anaconda3\\lib\\site-packages (from requests<3,>=2.21.0->tensorboard<2.9,>=2.8->tensorflow) (2.0.4)\n",
      "Requirement already satisfied: urllib3<1.27,>=1.21.1 in c:\\users\\hp\\anaconda3\\lib\\site-packages (from requests<3,>=2.21.0->tensorboard<2.9,>=2.8->tensorflow) (1.26.7)\n",
      "Requirement already satisfied: certifi>=2017.4.17 in c:\\users\\hp\\anaconda3\\lib\\site-packages (from requests<3,>=2.21.0->tensorboard<2.9,>=2.8->tensorflow) (2021.10.8)\n",
      "Requirement already satisfied: idna<4,>=2.5 in c:\\users\\hp\\anaconda3\\lib\\site-packages (from requests<3,>=2.21.0->tensorboard<2.9,>=2.8->tensorflow) (3.2)\n",
      "Requirement already satisfied: oauthlib>=3.0.0 in c:\\users\\hp\\anaconda3\\lib\\site-packages (from requests-oauthlib>=0.7.0->google-auth-oauthlib<0.5,>=0.4.1->tensorboard<2.9,>=2.8->tensorflow) (3.2.0)\n"
     ]
    }
   ],
   "source": [
    "! pip install tensorflow"
   ]
  },
  {
   "cell_type": "code",
   "execution_count": 27,
   "metadata": {
    "id": "pL16zurwL6JI"
   },
   "outputs": [],
   "source": [
    "\n",
    "### Create the Stacked LSTM model\n",
    "from tensorflow.keras.models import Sequential\n",
    "from tensorflow.keras.layers import Dense\n",
    "from tensorflow.keras.layers import LSTM"
   ]
  },
  {
   "cell_type": "code",
   "execution_count": 28,
   "metadata": {
    "id": "dwHlFnmvL6JJ"
   },
   "outputs": [],
   "source": [
    "model=Sequential()\n",
    "model.add(LSTM(50,return_sequences=True,input_shape=(100,1)))\n",
    "model.add(LSTM(50,return_sequences=True))\n",
    "model.add(LSTM(50))\n",
    "model.add(Dense(1))\n",
    "model.compile(loss='mean_squared_error',optimizer='adam')\n"
   ]
  },
  {
   "cell_type": "code",
   "execution_count": 29,
   "metadata": {
    "colab": {
     "base_uri": "https://localhost:8080/"
    },
    "id": "neqfz6cmL6JK",
    "outputId": "ba12b20f-6c99-4410-8622-3390203d2d92"
   },
   "outputs": [
    {
     "name": "stdout",
     "output_type": "stream",
     "text": [
      "Model: \"sequential\"\n",
      "_________________________________________________________________\n",
      " Layer (type)                Output Shape              Param #   \n",
      "=================================================================\n",
      " lstm (LSTM)                 (None, 100, 50)           10400     \n",
      "                                                                 \n",
      " lstm_1 (LSTM)               (None, 100, 50)           20200     \n",
      "                                                                 \n",
      " lstm_2 (LSTM)               (None, 50)                20200     \n",
      "                                                                 \n",
      " dense (Dense)               (None, 1)                 51        \n",
      "                                                                 \n",
      "=================================================================\n",
      "Total params: 50,851\n",
      "Trainable params: 50,851\n",
      "Non-trainable params: 0\n",
      "_________________________________________________________________\n"
     ]
    }
   ],
   "source": [
    "model.summary()"
   ]
  },
  {
   "cell_type": "code",
   "execution_count": 30,
   "metadata": {
    "colab": {
     "base_uri": "https://localhost:8080/"
    },
    "id": "pRa-i3QBL6JK",
    "outputId": "1c0502c1-7b38-4e41-9756-f89954462846"
   },
   "outputs": [
    {
     "name": "stdout",
     "output_type": "stream",
     "text": [
      "Model: \"sequential\"\n",
      "_________________________________________________________________\n",
      " Layer (type)                Output Shape              Param #   \n",
      "=================================================================\n",
      " lstm (LSTM)                 (None, 100, 50)           10400     \n",
      "                                                                 \n",
      " lstm_1 (LSTM)               (None, 100, 50)           20200     \n",
      "                                                                 \n",
      " lstm_2 (LSTM)               (None, 50)                20200     \n",
      "                                                                 \n",
      " dense (Dense)               (None, 1)                 51        \n",
      "                                                                 \n",
      "=================================================================\n",
      "Total params: 50,851\n",
      "Trainable params: 50,851\n",
      "Non-trainable params: 0\n",
      "_________________________________________________________________\n"
     ]
    }
   ],
   "source": [
    "model.summary()"
   ]
  },
  {
   "cell_type": "code",
   "execution_count": 31,
   "metadata": {
    "colab": {
     "base_uri": "https://localhost:8080/"
    },
    "id": "Rhl-1w0LL6JL",
    "outputId": "1f7a7fcb-e620-4332-c399-e11deb41cfb4"
   },
   "outputs": [
    {
     "name": "stdout",
     "output_type": "stream",
     "text": [
      "Epoch 1/100\n",
      "24/24 [==============================] - 22s 461ms/step - loss: 0.0073 - val_loss: 0.0043\n",
      "Epoch 2/100\n",
      "24/24 [==============================] - 7s 284ms/step - loss: 7.6399e-04 - val_loss: 0.0014\n",
      "Epoch 3/100\n",
      "24/24 [==============================] - 6s 270ms/step - loss: 2.6080e-04 - val_loss: 0.0022\n",
      "Epoch 4/100\n",
      "24/24 [==============================] - 6s 271ms/step - loss: 2.2478e-04 - val_loss: 0.0017\n",
      "Epoch 5/100\n",
      "24/24 [==============================] - 6s 271ms/step - loss: 2.1578e-04 - val_loss: 0.0016\n",
      "Epoch 6/100\n",
      "24/24 [==============================] - 7s 276ms/step - loss: 2.0682e-04 - val_loss: 0.0015\n",
      "Epoch 7/100\n",
      "24/24 [==============================] - 7s 271ms/step - loss: 2.0176e-04 - val_loss: 0.0015\n",
      "Epoch 8/100\n",
      "24/24 [==============================] - 6s 271ms/step - loss: 1.9730e-04 - val_loss: 0.0015\n",
      "Epoch 9/100\n",
      "24/24 [==============================] - 6s 271ms/step - loss: 1.8982e-04 - val_loss: 0.0013\n",
      "Epoch 10/100\n",
      "24/24 [==============================] - 6s 270ms/step - loss: 1.8822e-04 - val_loss: 0.0014\n",
      "Epoch 11/100\n",
      "24/24 [==============================] - 6s 270ms/step - loss: 1.8470e-04 - val_loss: 0.0019\n",
      "Epoch 12/100\n",
      "24/24 [==============================] - 6s 271ms/step - loss: 1.8990e-04 - val_loss: 0.0015\n",
      "Epoch 13/100\n",
      "24/24 [==============================] - 6s 271ms/step - loss: 1.7317e-04 - val_loss: 0.0011\n",
      "Epoch 14/100\n",
      "24/24 [==============================] - 6s 270ms/step - loss: 1.6605e-04 - val_loss: 0.0020\n",
      "Epoch 15/100\n",
      "24/24 [==============================] - 8s 321ms/step - loss: 1.5745e-04 - val_loss: 0.0021\n",
      "Epoch 16/100\n",
      "24/24 [==============================] - 8s 326ms/step - loss: 1.5322e-04 - val_loss: 0.0017\n",
      "Epoch 17/100\n",
      "24/24 [==============================] - 8s 343ms/step - loss: 1.5465e-04 - val_loss: 0.0012\n",
      "Epoch 18/100\n",
      "24/24 [==============================] - 7s 295ms/step - loss: 1.4510e-04 - val_loss: 0.0016\n",
      "Epoch 19/100\n",
      "24/24 [==============================] - 8s 319ms/step - loss: 1.4918e-04 - val_loss: 0.0013\n",
      "Epoch 20/100\n",
      "24/24 [==============================] - 7s 299ms/step - loss: 1.4200e-04 - val_loss: 0.0018\n",
      "Epoch 21/100\n",
      "24/24 [==============================] - 7s 275ms/step - loss: 1.5655e-04 - val_loss: 0.0020\n",
      "Epoch 22/100\n",
      "24/24 [==============================] - 7s 273ms/step - loss: 1.4779e-04 - val_loss: 0.0011\n",
      "Epoch 23/100\n",
      "24/24 [==============================] - 13s 542ms/step - loss: 1.3672e-04 - val_loss: 9.9209e-04\n",
      "Epoch 24/100\n",
      "24/24 [==============================] - 13s 521ms/step - loss: 1.4152e-04 - val_loss: 0.0011\n",
      "Epoch 25/100\n",
      "24/24 [==============================] - 11s 483ms/step - loss: 1.2569e-04 - val_loss: 0.0011\n",
      "Epoch 26/100\n",
      "24/24 [==============================] - 12s 498ms/step - loss: 1.2562e-04 - val_loss: 0.0016\n",
      "Epoch 27/100\n",
      "24/24 [==============================] - 12s 512ms/step - loss: 1.3175e-04 - val_loss: 0.0011\n",
      "Epoch 28/100\n",
      "24/24 [==============================] - 12s 498ms/step - loss: 1.2781e-04 - val_loss: 8.3440e-04\n",
      "Epoch 29/100\n",
      "24/24 [==============================] - 12s 499ms/step - loss: 1.2998e-04 - val_loss: 5.4635e-04\n",
      "Epoch 30/100\n",
      "24/24 [==============================] - 12s 515ms/step - loss: 1.2906e-04 - val_loss: 0.0011\n",
      "Epoch 31/100\n",
      "24/24 [==============================] - 12s 487ms/step - loss: 1.3790e-04 - val_loss: 0.0017\n",
      "Epoch 32/100\n",
      "24/24 [==============================] - 12s 500ms/step - loss: 1.2698e-04 - val_loss: 0.0011\n",
      "Epoch 33/100\n",
      "24/24 [==============================] - 12s 503ms/step - loss: 1.2120e-04 - val_loss: 0.0013\n",
      "Epoch 34/100\n",
      "24/24 [==============================] - 13s 565ms/step - loss: 1.1701e-04 - val_loss: 7.4817e-04\n",
      "Epoch 35/100\n",
      "24/24 [==============================] - 12s 524ms/step - loss: 1.2815e-04 - val_loss: 4.8316e-04\n",
      "Epoch 36/100\n",
      "24/24 [==============================] - 12s 491ms/step - loss: 1.4463e-04 - val_loss: 0.0011\n",
      "Epoch 37/100\n",
      "24/24 [==============================] - 11s 477ms/step - loss: 1.3194e-04 - val_loss: 9.1137e-04\n",
      "Epoch 38/100\n",
      "24/24 [==============================] - 7s 306ms/step - loss: 1.1989e-04 - val_loss: 4.7421e-04\n",
      "Epoch 39/100\n",
      "24/24 [==============================] - 7s 304ms/step - loss: 1.0725e-04 - val_loss: 7.9993e-04\n",
      "Epoch 40/100\n",
      "24/24 [==============================] - 10s 403ms/step - loss: 1.0527e-04 - val_loss: 0.0011\n",
      "Epoch 41/100\n",
      "24/24 [==============================] - 12s 514ms/step - loss: 1.0481e-04 - val_loss: 7.8521e-04\n",
      "Epoch 42/100\n",
      "24/24 [==============================] - 12s 504ms/step - loss: 1.0590e-04 - val_loss: 0.0013\n",
      "Epoch 43/100\n",
      "24/24 [==============================] - 12s 492ms/step - loss: 1.0173e-04 - val_loss: 9.8863e-04\n",
      "Epoch 44/100\n",
      "24/24 [==============================] - 12s 501ms/step - loss: 1.2499e-04 - val_loss: 3.5873e-04\n",
      "Epoch 45/100\n",
      "24/24 [==============================] - 12s 490ms/step - loss: 1.1647e-04 - val_loss: 3.9869e-04\n",
      "Epoch 46/100\n",
      "24/24 [==============================] - 12s 500ms/step - loss: 1.0151e-04 - val_loss: 9.5499e-04\n",
      "Epoch 47/100\n",
      "24/24 [==============================] - 12s 511ms/step - loss: 1.2212e-04 - val_loss: 4.0189e-04\n",
      "Epoch 48/100\n",
      "24/24 [==============================] - 12s 516ms/step - loss: 1.0823e-04 - val_loss: 8.6690e-04\n",
      "Epoch 49/100\n",
      "24/24 [==============================] - 12s 493ms/step - loss: 9.6461e-05 - val_loss: 7.3446e-04\n",
      "Epoch 50/100\n",
      "24/24 [==============================] - 12s 495ms/step - loss: 9.2927e-05 - val_loss: 4.3572e-04\n",
      "Epoch 51/100\n",
      "24/24 [==============================] - 12s 509ms/step - loss: 9.1520e-05 - val_loss: 6.0926e-04\n",
      "Epoch 52/100\n",
      "24/24 [==============================] - 13s 531ms/step - loss: 9.0310e-05 - val_loss: 6.9958e-04\n",
      "Epoch 53/100\n",
      "24/24 [==============================] - 12s 495ms/step - loss: 9.1895e-05 - val_loss: 3.6704e-04\n",
      "Epoch 54/100\n",
      "24/24 [==============================] - 12s 489ms/step - loss: 9.8311e-05 - val_loss: 4.7452e-04\n",
      "Epoch 55/100\n",
      "24/24 [==============================] - 11s 470ms/step - loss: 9.3010e-05 - val_loss: 2.9441e-04\n",
      "Epoch 56/100\n",
      "24/24 [==============================] - 11s 446ms/step - loss: 9.0667e-05 - val_loss: 3.5509e-04\n",
      "Epoch 57/100\n",
      "24/24 [==============================] - 11s 475ms/step - loss: 8.5515e-05 - val_loss: 5.6747e-04\n",
      "Epoch 58/100\n",
      "24/24 [==============================] - 14s 560ms/step - loss: 8.3135e-05 - val_loss: 4.4354e-04\n",
      "Epoch 59/100\n",
      "24/24 [==============================] - 13s 538ms/step - loss: 8.2153e-05 - val_loss: 3.4576e-04\n",
      "Epoch 60/100\n",
      "24/24 [==============================] - 13s 528ms/step - loss: 8.0411e-05 - val_loss: 4.1057e-04\n",
      "Epoch 61/100\n",
      "24/24 [==============================] - 14s 572ms/step - loss: 9.2869e-05 - val_loss: 4.2418e-04\n",
      "Epoch 62/100\n",
      "24/24 [==============================] - 14s 597ms/step - loss: 8.0368e-05 - val_loss: 4.1336e-04\n",
      "Epoch 63/100\n",
      "24/24 [==============================] - 14s 603ms/step - loss: 7.9929e-05 - val_loss: 2.9784e-04\n",
      "Epoch 64/100\n",
      "24/24 [==============================] - 14s 585ms/step - loss: 7.9410e-05 - val_loss: 2.5457e-04\n",
      "Epoch 65/100\n",
      "24/24 [==============================] - 14s 590ms/step - loss: 7.5079e-05 - val_loss: 3.3256e-04\n",
      "Epoch 66/100\n",
      "24/24 [==============================] - 11s 440ms/step - loss: 8.2597e-05 - val_loss: 2.8623e-04\n",
      "Epoch 67/100\n",
      "24/24 [==============================] - 13s 546ms/step - loss: 9.5665e-05 - val_loss: 2.3912e-04\n",
      "Epoch 68/100\n",
      "24/24 [==============================] - 12s 525ms/step - loss: 7.7596e-05 - val_loss: 4.0628e-04\n",
      "Epoch 69/100\n",
      "24/24 [==============================] - 12s 495ms/step - loss: 7.8127e-05 - val_loss: 2.3784e-04\n",
      "Epoch 70/100\n",
      "24/24 [==============================] - 12s 522ms/step - loss: 9.4861e-05 - val_loss: 4.9273e-04\n",
      "Epoch 71/100\n",
      "24/24 [==============================] - 11s 469ms/step - loss: 8.6393e-05 - val_loss: 3.2079e-04\n",
      "Epoch 72/100\n",
      "24/24 [==============================] - 10s 433ms/step - loss: 6.9044e-05 - val_loss: 6.2250e-04\n",
      "Epoch 73/100\n",
      "24/24 [==============================] - 10s 422ms/step - loss: 8.3937e-05 - val_loss: 2.5612e-04\n",
      "Epoch 74/100\n",
      "24/24 [==============================] - 15s 650ms/step - loss: 7.2944e-05 - val_loss: 2.1339e-04\n",
      "Epoch 75/100\n",
      "24/24 [==============================] - 18s 749ms/step - loss: 7.1610e-05 - val_loss: 4.4943e-04\n",
      "Epoch 76/100\n",
      "24/24 [==============================] - 16s 660ms/step - loss: 7.2582e-05 - val_loss: 6.1401e-04\n",
      "Epoch 77/100\n",
      "24/24 [==============================] - 15s 615ms/step - loss: 6.6463e-05 - val_loss: 2.9829e-04\n",
      "Epoch 78/100\n",
      "24/24 [==============================] - 15s 620ms/step - loss: 7.4464e-05 - val_loss: 2.5650e-04\n",
      "Epoch 79/100\n",
      "24/24 [==============================] - 14s 592ms/step - loss: 7.3589e-05 - val_loss: 2.0214e-04\n",
      "Epoch 80/100\n",
      "24/24 [==============================] - 10s 429ms/step - loss: 6.7040e-05 - val_loss: 2.1889e-04\n",
      "Epoch 81/100\n",
      "24/24 [==============================] - 12s 514ms/step - loss: 6.8362e-05 - val_loss: 1.9636e-04\n",
      "Epoch 82/100\n",
      "24/24 [==============================] - 10s 430ms/step - loss: 7.2469e-05 - val_loss: 2.6197e-04\n",
      "Epoch 83/100\n",
      "24/24 [==============================] - 10s 435ms/step - loss: 6.7187e-05 - val_loss: 1.9253e-04\n",
      "Epoch 84/100\n",
      "24/24 [==============================] - 10s 437ms/step - loss: 6.3055e-05 - val_loss: 3.0632e-04\n",
      "Epoch 85/100\n",
      "24/24 [==============================] - 10s 428ms/step - loss: 7.1744e-05 - val_loss: 1.8989e-04\n",
      "Epoch 86/100\n",
      "24/24 [==============================] - 10s 427ms/step - loss: 6.2056e-05 - val_loss: 1.9688e-04\n",
      "Epoch 87/100\n",
      "24/24 [==============================] - 10s 423ms/step - loss: 6.9335e-05 - val_loss: 2.9509e-04\n",
      "Epoch 88/100\n",
      "24/24 [==============================] - 10s 423ms/step - loss: 7.0172e-05 - val_loss: 1.8504e-04\n",
      "Epoch 89/100\n",
      "24/24 [==============================] - 10s 430ms/step - loss: 7.4197e-05 - val_loss: 2.0984e-04\n",
      "Epoch 90/100\n",
      "24/24 [==============================] - 10s 438ms/step - loss: 6.3459e-05 - val_loss: 1.9751e-04\n",
      "Epoch 91/100\n",
      "24/24 [==============================] - 10s 427ms/step - loss: 5.8667e-05 - val_loss: 2.8027e-04\n",
      "Epoch 92/100\n",
      "24/24 [==============================] - 10s 428ms/step - loss: 5.5386e-05 - val_loss: 1.7731e-04\n",
      "Epoch 93/100\n",
      "24/24 [==============================] - 10s 421ms/step - loss: 5.6702e-05 - val_loss: 2.9692e-04\n",
      "Epoch 94/100\n",
      "24/24 [==============================] - 10s 432ms/step - loss: 5.5700e-05 - val_loss: 1.7307e-04\n",
      "Epoch 95/100\n",
      "24/24 [==============================] - 11s 472ms/step - loss: 5.6364e-05 - val_loss: 1.7369e-04\n",
      "Epoch 96/100\n",
      "24/24 [==============================] - 11s 470ms/step - loss: 5.6695e-05 - val_loss: 1.7381e-04\n",
      "Epoch 97/100\n",
      "24/24 [==============================] - 11s 449ms/step - loss: 5.5036e-05 - val_loss: 3.2883e-04\n",
      "Epoch 98/100\n",
      "24/24 [==============================] - 11s 468ms/step - loss: 5.2488e-05 - val_loss: 3.0921e-04\n",
      "Epoch 99/100\n",
      "24/24 [==============================] - 11s 450ms/step - loss: 5.2355e-05 - val_loss: 1.9277e-04\n",
      "Epoch 100/100\n",
      "24/24 [==============================] - 11s 470ms/step - loss: 5.7811e-05 - val_loss: 1.8992e-04\n"
     ]
    },
    {
     "data": {
      "text/plain": [
       "<keras.callbacks.History at 0x1d5ea0bdfd0>"
      ]
     },
     "execution_count": 31,
     "metadata": {},
     "output_type": "execute_result"
    }
   ],
   "source": [
    "model.fit(X_train,y_train,validation_data=(X_test,ytest),epochs=100,batch_size=64,verbose=1)"
   ]
  },
  {
   "cell_type": "code",
   "execution_count": 37,
   "metadata": {
    "id": "wpLWP8MYL6JL"
   },
   "outputs": [],
   "source": [
    "import tensorflow as tf"
   ]
  },
  {
   "cell_type": "code",
   "execution_count": 38,
   "metadata": {
    "colab": {
     "base_uri": "https://localhost:8080/",
     "height": 35
    },
    "id": "HeDudFsjL6JM",
    "outputId": "f7d3ccb9-6fdd-4155-a8c6-bc7e8163a850"
   },
   "outputs": [
    {
     "data": {
      "text/plain": [
       "'2.8.0'"
      ]
     },
     "execution_count": 38,
     "metadata": {},
     "output_type": "execute_result"
    }
   ],
   "source": [
    "tf.__version__"
   ]
  },
  {
   "cell_type": "code",
   "execution_count": 39,
   "metadata": {
    "id": "rTlv0W0iL6JN"
   },
   "outputs": [],
   "source": [
    "### Lets Do the prediction and check performance metrics\n",
    "train_predict=model.predict(X_train)\n",
    "test_predict=model.predict(X_test)"
   ]
  },
  {
   "cell_type": "code",
   "execution_count": 40,
   "metadata": {
    "id": "J13NJlFUL6JN"
   },
   "outputs": [],
   "source": [
    "##Transformback to original form\n",
    "train_predict=scaler.inverse_transform(train_predict)\n",
    "test_predict=scaler.inverse_transform(test_predict)"
   ]
  },
  {
   "cell_type": "code",
   "execution_count": 41,
   "metadata": {
    "colab": {
     "base_uri": "https://localhost:8080/"
    },
    "id": "zVXxeZe4L6JN",
    "outputId": "bb62ff95-a23f-4cf6-86c5-8ff439a6bfcf"
   },
   "outputs": [
    {
     "data": {
      "text/plain": [
       "20.837270986884857"
      ]
     },
     "execution_count": 41,
     "metadata": {},
     "output_type": "execute_result"
    }
   ],
   "source": [
    "### Calculate RMSE performance metrics\n",
    "import math\n",
    "from sklearn.metrics import mean_squared_error\n",
    "math.sqrt(mean_squared_error(y_train,train_predict))"
   ]
  },
  {
   "cell_type": "code",
   "execution_count": 42,
   "metadata": {
    "colab": {
     "base_uri": "https://localhost:8080/"
    },
    "id": "XFnSmcaYL6JO",
    "outputId": "8b9aed17-e65b-429e-d8c1-bc23faf095ce"
   },
   "outputs": [
    {
     "data": {
      "text/plain": [
       "44.910987694809144"
      ]
     },
     "execution_count": 42,
     "metadata": {},
     "output_type": "execute_result"
    }
   ],
   "source": [
    "### Test Data RMSE\n",
    "math.sqrt(mean_squared_error(ytest,test_predict))"
   ]
  },
  {
   "cell_type": "code",
   "execution_count": 43,
   "metadata": {
    "colab": {
     "base_uri": "https://localhost:8080/",
     "height": 265
    },
    "id": "omE427gKL6JP",
    "outputId": "9c9e0240-5d31-4572-c274-a083d60eba4a"
   },
   "outputs": [
    {
     "data": {
      "image/png": "[encoded data removed]",
      "text/plain": [
       "<Figure size 432x288 with 1 Axes>"
      ]
     },
     "metadata": {
      "needs_background": "light"
     },
     "output_type": "display_data"
    }
   ],
   "source": [
    "### Plotting \n",
    "# shift train predictions for plotting\n",
    "look_back=100\n",
    "trainPredictPlot = numpy.empty_like(df1)\n",
    "trainPredictPlot[:, :] = np.nan\n",
    "trainPredictPlot[look_back:len(train_predict)+look_back, :] = train_predict\n",
    "# shift test predictions for plotting\n",
    "testPredictPlot = numpy.empty_like(df1)\n",
    "testPredictPlot[:, :] = numpy.nan\n",
    "testPredictPlot[len(train_predict)+(look_back*2)+1:len(df1)-1, :] = test_predict\n",
    "# plot baseline and predictions\n",
    "plt.plot(scaler.inverse_transform(df1))\n",
    "plt.plot(trainPredictPlot)\n",
    "plt.plot(testPredictPlot)\n",
    "plt.show()"
   ]
  }
 ],
 "metadata": {
  "colab": {
   "name": "krish naik sir ml",
   "provenance": []
  },
  "kernelspec": {
   "display_name": "Python 3 (ipykernel)",
   "language": "python",
   "name": "python3"
  },
  "language_info": {
   "codemirror_mode": {
    "name": "ipython",
    "version": 3
   },
   "file_extension": ".py",
   "mimetype": "text/x-python",
   "name": "python",
   "nbconvert_exporter": "python",
   "pygments_lexer": "ipython3",
   "version": "3.9.7"
  }
 },
 "nbformat": 4,
 "nbformat_minor": 1
}
